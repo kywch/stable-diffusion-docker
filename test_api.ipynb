{
 "cells": [
  {
   "cell_type": "code",
   "execution_count": 1,
   "id": "dc1712af",
   "metadata": {},
   "outputs": [],
   "source": [
    "import os, requests, base64, random, json\n",
    "\n",
    "from io import BytesIO\n",
    "from PIL import Image\n",
    "\n",
    "import gradio as gr\n",
    "\n",
    "# gradio versionshould be > 3.3\n",
    "assert gr.__version__ > '3.3'\n"
   ]
  },
  {
   "cell_type": "code",
   "execution_count": 2,
   "id": "7573fef4",
   "metadata": {},
   "outputs": [
    {
     "data": {
      "image/png": "[encoded data removed]",
      "text/plain": [
       "<PIL.Image.Image image mode=RGB size=64x64 at 0x7F77575A13D0>"
      ]
     },
     "execution_count": 2,
     "metadata": {},
     "output_type": "execute_result"
    }
   ],
   "source": [
    "# some sample images\n",
    "img_url1 = \"https://drive.google.com/uc?export=download&id=1wCOSJDajr7As6mEvAH5Ze1W9qDQCABpd\"\n",
    "img_url2 = \"https://drive.google.com/uc?export=download&id=1tFyeX0M7-yKpk_79bkNYSZd9KE0IJUUN\"\n",
    "img_url3 = \"https://drive.google.com/uc?export=download&id=1cJl8PEOqKsYqAlDQovSjdlbbR_nClGTu\"\n",
    "img_url4 = \"https://drive.google.com/uc?export=download&id=1OvMNZGQ2lOC-6XtvimS0iwbBihOkFx6T\"\n",
    "\n",
    "#for getting sample images\n",
    "def download_image(url):\n",
    "    response = requests.get(url)\n",
    "    return Image.open(BytesIO(response.content)).convert(\"RGB\")\n",
    "\n",
    "if not os.path.exists('image'):\n",
    "    os.makedirs('image')\n",
    "    download_image(img_url1).resize((512, 512)).save('image/dog.jpg')\n",
    "    download_image(img_url2).resize((512, 512)).save('image/photobomb1.jpg')\n",
    "    download_image(img_url3).resize((512, 512)).save('image/photobomb2.jpg')\n",
    "    download_image(img_url4).resize((512, 512)).save('image/photobomb3.jpg')\n",
    "    \n",
    "Image.open('image/photobomb3.jpg').resize((64,64))    "
   ]
  },
  {
   "cell_type": "code",
   "execution_count": 3,
   "id": "18e66fb3",
   "metadata": {},
   "outputs": [
    {
     "name": "stdout",
     "output_type": "stream",
     "text": [
      "CPU times: user 21.7 ms, sys: 3.27 ms, total: 25 ms\n",
      "Wall time: 7.03 s\n"
     ]
    },
    {
     "data": {
      "text/plain": [
       "[<PIL.JpegImagePlugin.JpegImageFile image mode=RGB size=512x512 at 0x7F775750B9D0>]"
      ]
     },
     "execution_count": 3,
     "metadata": {},
     "output_type": "execute_result"
    }
   ],
   "source": [
    "magic_url = 'http://localhost:6000/magic'\n",
    "\n",
    "def image2str(image):\n",
    "    buffered = BytesIO()\n",
    "    image.save(buffered, format=\"JPEG\")\n",
    "    return str(base64.b64encode(buffered.getvalue()).decode(\"utf-8\"))\n",
    "\n",
    "def str2image(encstr):\n",
    "    return Image.open(BytesIO(base64.b64decode(encstr)))\n",
    "\n",
    "# test the image encoding function\n",
    "if False:\n",
    "    #output = image2str(Image.open('image/photobomb3.jpg').resize((512, 512)))\n",
    "    #print(output[:50])\n",
    "\n",
    "    #str2image(output)\n",
    "    pass\n",
    "\n",
    "\n",
    "def get_stable_diffusion_images(init_image, mask_prompt, target_prompt):\n",
    "    #prompt = \"a cat sitting on bench\"\n",
    "    strength= .75\n",
    "    guidance_scale=8.5\n",
    "    num_samples = 4\n",
    "    n_iter = 1\n",
    "    \n",
    "    response = requests.post(magic_url, json = {\n",
    "        'init_image': image2str(init_image),\n",
    "        'mask_prompt': mask_prompt,\n",
    "        'target_prompt': target_prompt\n",
    "    })\n",
    "    #print(response)\n",
    "    \n",
    "    if (response.status_code == 200):\n",
    "        parse_json = json.loads(response.text)\n",
    "        #print('Response success. Process time:', parse_json['execution_time'], 's')\n",
    "        \n",
    "        # decode the images\n",
    "        magic_images = []\n",
    "        for image_str in parse_json['result']:\n",
    "            magic_images.append(str2image(image_str))\n",
    "\n",
    "        return magic_images\n",
    "        \n",
    "    else:\n",
    "        print('Error')\n",
    "        return None\n",
    "\n",
    "%time get_stable_diffusion_images(Image.open('image/dog.jpg'), 'Dog', 'Cat sitting on bench')    "
   ]
  },
  {
   "cell_type": "code",
   "execution_count": 4,
   "id": "b21dac53",
   "metadata": {},
   "outputs": [],
   "source": [
    "demo = gr.Blocks()\n",
    "\n",
    "examples = [['image/dog.jpg', 'Dog', 'Cat sitting on bench'], \n",
    "            ['image/photobomb2.jpg', 'bride', 'a giraffe'],\n",
    "            ['image/photobomb1.jpg', 'girl in blue dress', 'a man in blue shirt'],\n",
    "            ['image/photobomb3.jpg', 'man in shorts', 'a tree']]\n",
    "\n",
    "with demo:\n",
    "    gr.Markdown(\"<h1><center>Diffusing InPainting and Visual Grounding together</center></h1>\")\n",
    "    gr.Markdown(\"\"\"<h3><center>Stable Diffusion - InPainting - OFA (ICML2022) Pipeline</center></h3>\"\"\")\n",
    "    \n",
    "    with gr.Group():\n",
    "        with gr.Box():\n",
    "            with gr.Row().style(mobile_collapse=False, equal_height=True):\n",
    "                with gr.Column(variant = 'panel'):\n",
    "                    in_image = gr.Image(type='pil')\n",
    "                    in_txt_ofa_ques = gr.Textbox(label=\"Describe the region that you want to CHANGE in your picture? Take some help from the examples given.\")\n",
    "                    in_txt_ofa_answr = gr.Textbox(label=\"Tell Stable Diffusion what you want instead - \")\n",
    "                    btn = gr.Button(\"Diffuse some Magic!\")\n",
    "                \n",
    "                with gr.Column(variant = 'panel'):\n",
    "                    out_image = gr.Gallery(label='Diffused images').style(grid=[2,2], height=\"5\", container=True)\n",
    "\n",
    "            ex = gr.Examples(examples=examples, fn=get_stable_diffusion_images, inputs=[in_image, in_txt_ofa_ques, in_txt_ofa_answr], outputs=out_image, cache_examples=False)\n",
    "            ex.dataset.headers = [\"\"]\n",
    "            \n",
    "            btn.click(get_stable_diffusion_images,inputs=[in_image, in_txt_ofa_ques, in_txt_ofa_answr], outputs=out_image)\n",
    "    "
   ]
  },
  {
   "cell_type": "code",
   "execution_count": null,
   "id": "d6694fcd",
   "metadata": {},
   "outputs": [
    {
     "name": "stdout",
     "output_type": "stream",
     "text": [
      "Running on local URL:  http://127.0.0.1:7700\n",
      "\n",
      "To create a public link, set `share=True` in `launch()`.\n"
     ]
    },
    {
     "data": {
      "text/html": [
       "<div><iframe src=\"http://127.0.0.1:7700/\" width=\"900\" height=\"1000\" allow=\"autoplay; camera; microphone;\" frameborder=\"0\" allowfullscreen></iframe></div>"
      ],
      "text/plain": [
       "<IPython.core.display.HTML object>"
      ]
     },
     "metadata": {},
     "output_type": "display_data"
    }
   ],
   "source": [
    "demo.launch(show_error=True, debug=True, height=1000, server_port=7700) #(enable_queue=True,  show_error=True , debug=True)"
   ]
  },
  {
   "cell_type": "code",
   "execution_count": null,
   "id": "7be923bb",
   "metadata": {},
   "outputs": [],
   "source": [
    "demo.close()"
   ]
  },
  {
   "cell_type": "code",
   "execution_count": null,
   "id": "40c5215e",
   "metadata": {},
   "outputs": [],
   "source": []
  }
 ],
 "metadata": {
  "kernelspec": {
   "display_name": "FSDL",
   "language": "python",
   "name": "fsdl"
  },
  "language_info": {
   "codemirror_mode": {
    "name": "ipython",
    "version": 3
   },
   "file_extension": ".py",
   "mimetype": "text/x-python",
   "name": "python",
   "nbconvert_exporter": "python",
   "pygments_lexer": "ipython3",
   "version": "3.7.13"
  }
 },
 "nbformat": 4,
 "nbformat_minor": 5
}
